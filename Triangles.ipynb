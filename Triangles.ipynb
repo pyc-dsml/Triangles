{
 "cells": [
  {
   "cell_type": "code",
   "execution_count": 2,
   "id": "6e7b5d12",
   "metadata": {},
   "outputs": [
    {
     "name": "stdout",
     "output_type": "stream",
     "text": [
      "Isosceles triangle\n",
      "Not a triangle\n",
      "Equilateral triangle\n",
      "Scalene right triangle\n"
     ]
    }
   ],
   "source": [
    "def triangle_type(x,y,z):\n",
    "    result = \"\"\n",
    "    \n",
    "    all_sides = [x, y, z]\n",
    "    all_sides.sort()\n",
    "    side1 = all_sides[0]\n",
    "    side2 = all_sides[1]\n",
    "    hypotenuse = all_sides[2]\n",
    "    \n",
    "    #check if it's a triangle: longest side has to be greater than sum of other two\n",
    "    def check_triangle(x,y,z):\n",
    "        if x + y < z:\n",
    "            return False\n",
    "    \n",
    "    #check if it's right angled: satisfies a^2 + b^2 = c^2\n",
    "    def check_right(x,y,z):\n",
    "        if x**2 + y**2 == z**2:\n",
    "            return True\n",
    "    \n",
    "    if check_triangle(side1, side2, hypotenuse) == False:\n",
    "        print(\"Not a triangle\")\n",
    "        return\n",
    "\n",
    "    #check what type of triangle it is\n",
    "    if side1 == side2 and side2 == hypotenuse and side1 == hypotenuse:\n",
    "        result += \"Equilateral\"\n",
    "    elif side1 == side2:\n",
    "        result += \"Isosceles\"\n",
    "    else:\n",
    "        result += \"Scalene\"\n",
    "        \n",
    "    if check_right(side1, side2, hypotenuse):\n",
    "        result += \" right triangle\"\n",
    "    else:\n",
    "        result += \" triangle\"\n",
    "\n",
    "    print(result.capitalize())    \n",
    "    \n",
    "triangle_type(5,3,3)\n",
    "triangle_type(4,9,15)\n",
    "triangle_type(5,5,5)\n",
    "triangle_type(4,5,3)"
   ]
  },
  {
   "cell_type": "code",
   "execution_count": 3,
   "id": "7c254715",
   "metadata": {},
   "outputs": [
    {
     "name": "stdout",
     "output_type": "stream",
     "text": [
      "     1 \n",
      "    1 1 \n",
      "   1 2 1 \n",
      "  1 3 3 1 \n",
      " 1 4 6 4 1 \n"
     ]
    }
   ],
   "source": [
    "def pascal_triangle(n):\n",
    "    pascal = []\n",
    "    \n",
    "    for i in range(n):\n",
    "        pascal.append([])\n",
    "        pascal[i].append(1)\n",
    "        for j in range(1,i):\n",
    "            pascal[i].append(pascal[i-1][j-1]+pascal[i-1][j])\n",
    "        if i>0:\n",
    "            pascal[i].append(1)\n",
    "\n",
    "\n",
    "    for i in range(n):\n",
    "        print(\" \"*(n-i), end=\"\")\n",
    "        for j in range(0,i+1): \n",
    "            print(pascal[i][j],end=\" \")\n",
    "        print(\"\")\n",
    "            \n",
    "pascal_triangle(5)\n",
    "\n"
   ]
  }
 ],
 "metadata": {
  "kernelspec": {
   "display_name": "Python 3",
   "language": "python",
   "name": "python3"
  },
  "language_info": {
   "codemirror_mode": {
    "name": "ipython",
    "version": 3
   },
   "file_extension": ".py",
   "mimetype": "text/x-python",
   "name": "python",
   "nbconvert_exporter": "python",
   "pygments_lexer": "ipython3",
   "version": "3.8.8"
  }
 },
 "nbformat": 4,
 "nbformat_minor": 5
}
